{
 "cells": [
  {
   "cell_type": "markdown",
   "metadata": {},
   "source": [
    "# 09. PyTorch Model Deployment\n",
    "\n",
    "Machine learning model deployment is the act of making your machine learning model(s) available to someone or something else.\n",
    "\n",
    "Resources:\n",
    "- Book version of notebook: https://www.learnpytorch.io/09_pytorch_model_deployment/\n",
    "- Slides: https://github.com/mrdbourke/pytorch-deep-learning/blob/main/slides/09_pytorch_model_deployment.pdf"
   ]
  },
  {
   "cell_type": "markdown",
   "metadata": {},
   "source": [
    "## 0. Get setup\n"
   ]
  },
  {
   "cell_type": "code",
   "execution_count": 1,
   "metadata": {},
   "outputs": [
    {
     "name": "stdout",
     "output_type": "stream",
     "text": [
      "torch version: 2.5.0+cu124\n",
      "torchvision version: 0.20.0+cu124\n"
     ]
    }
   ],
   "source": [
    "import torch\n",
    "import torchvision\n",
    "print(f\"torch version: {torch.__version__}\")\n",
    "print(f\"torchvision version: {torchvision.__version__}\")"
   ]
  },
  {
   "cell_type": "code",
   "execution_count": 5,
   "metadata": {},
   "outputs": [],
   "source": [
    "from torch import nn\n",
    "from torchvision import transforms\n",
    "\n",
    "from torchinfo import summary\n",
    "\n",
    "from going_modular.going_modular import data_setup, engine\n",
    "from helper_functions import download_data, set_seeds, plot_loss_curves"
   ]
  },
  {
   "cell_type": "code",
   "execution_count": 11,
   "metadata": {},
   "outputs": [
    {
     "name": "stdout",
     "output_type": "stream",
     "text": [
      "data_setup.py  model_builder.py  __pycache__  train.py\r\n",
      "engine.py      predictions.py\t README.md    utils.py\r\n"
     ]
    }
   ],
   "source": [
    "! ls going_modular/going_modular\n"
   ]
  },
  {
   "cell_type": "code",
   "execution_count": 12,
   "metadata": {},
   "outputs": [
    {
     "data": {
      "text/plain": [
       "'cuda'"
      ]
     },
     "execution_count": 12,
     "metadata": {},
     "output_type": "execute_result"
    }
   ],
   "source": [
    "device = \"cuda\" if torch.cuda.is_available() else \"cpu\"\n",
    "device \n",
    "     "
   ]
  },
  {
   "cell_type": "markdown",
   "metadata": {},
   "source": [
    "## 1. Getting Data\n",
    "The dataset we're going to use for deploying a FoodVision Mini model is...\n",
    "\n",
    "Pizza, steak, sushi 20% dataset (pizza, steak, sushi classes from Food101, random 20% of samples)\n",
    "\n",
    "We can get data with code from: https://www.learnpytorch.io/09_pytorch_model_deployment/#1-getting-data"
   ]
  },
  {
   "cell_type": "code",
   "execution_count": 10,
   "metadata": {},
   "outputs": [
    {
     "name": "stdout",
     "output_type": "stream",
     "text": [
      "[INFO] data/pizza_steak_sushi_20_percent directory exists, skipping download.\n"
     ]
    },
    {
     "data": {
      "text/plain": [
       "PosixPath('data/pizza_steak_sushi_20_percent')"
      ]
     },
     "execution_count": 10,
     "metadata": {},
     "output_type": "execute_result"
    }
   ],
   "source": [
    "# Download pizza, steak, sushi images from GitHub\n",
    "data_20_percent_path = download_data(source=\"https://github.com/mrdbourke/pytorch-deep-learning/raw/main/data/pizza_steak_sushi_20_percent.zip\",\n",
    "                                     destination=\"pizza_steak_sushi_20_percent\")\n",
    "\n",
    "data_20_percent_path\n",
    "     "
   ]
  },
  {
   "cell_type": "code",
   "execution_count": 13,
   "metadata": {},
   "outputs": [
    {
     "data": {
      "text/plain": [
       "(PosixPath('data/pizza_steak_sushi_20_percent/train'),\n",
       " PosixPath('data/pizza_steak_sushi_20_percent/test'))"
      ]
     },
     "execution_count": 13,
     "metadata": {},
     "output_type": "execute_result"
    }
   ],
   "source": [
    "# Setup training and test paths\n",
    "train_dir = data_20_percent_path / \"train\"\n",
    "test_dir = data_20_percent_path / \"test\"\n",
    "\n",
    "train_dir, test_dir\n",
    "     \n"
   ]
  },
  {
   "cell_type": "markdown",
   "metadata": {},
   "source": [
    "## 2. FoodVision Mini model deployment experiment outline\n",
    "\n",
    ">3 questions:\n",
    ">- What is my most ideal machine learning model deployment scenario?\n",
    ">- Where is my model going to go?\n",
    ">- How is my model going to function?\n",
    "\n",
    ">FoodVision Mini ideal use case: A model that performs well and fast.\n",
    ">- Performs well: 95%+ accuracy\n",
    ">- Fast: as close to real-time (or faster) as possible (30FPS+ or 30ms latency)\n",
    ">\n",
    ">(Latency = time for prediction to take place)\n",
    "\n",
    ">To try and achieve these goals, we're going to build two model experiments:\n",
    ">- EffNetB2 feature extractor (just like in 07. PyTorch Experiment Tracking)\n",
    ">- ViT feature extractor (just like in 08. PyTorch Paper Replicating)"
   ]
  },
  {
   "cell_type": "markdown",
   "metadata": {},
   "source": [
    "## 3. Creating an EffNetB2 feature extractor\n",
    "Feautre extractor = a term for a transfer learning model that has its base layers frozen and output layers (or head layers) customized to a certain problem.\n",
    "\n",
    "EffNetB2 pretrained model in PyTorch - https://pytorch.org/vision/stable/models/generated/torchvision.models.efficientnet_b2.html#torchvision.models.EfficientNet_B2_Weights"
   ]
  },
  {
   "cell_type": "code",
   "execution_count": 16,
   "metadata": {},
   "outputs": [],
   "source": [
    "effnetb2_weights= torchvision.models.EfficientNet_B2_Weights.DEFAULT\n",
    "effnetb2_transforms= effnetb2_weights.transforms()\n",
    "effnetb2= torchvision.models.efficientnet_b2(weights=effnetb2_weights)\n",
    "\n",
    "for param in effnetb2.parameters():\n",
    "    param.requires_grad=False"
   ]
  },
  {
   "cell_type": "code",
   "execution_count": 21,
   "metadata": {
    "scrolled": false
   },
   "outputs": [
    {
     "data": {
      "text/plain": [
       "========================================================================================================\n",
       "Layer (type (var_name))                                      Input Shape Output Shape Param #     Trainable\n",
       "========================================================================================================\n",
       "EfficientNet (EfficientNet)                                  [1, 3, 224, 224] [1, 1000]   --          False\n",
       "├─Sequential (features)                                      [1, 3, 224, 224] [1, 1408, 7, 7] --          False\n",
       "│    └─Conv2dNormActivation (0)                              [1, 3, 224, 224] [1, 32, 112, 112] --          False\n",
       "│    │    └─Conv2d (0)                                       [1, 3, 224, 224] [1, 32, 112, 112] (864)       False\n",
       "│    │    └─BatchNorm2d (1)                                  [1, 32, 112, 112] [1, 32, 112, 112] (64)        False\n",
       "│    │    └─SiLU (2)                                         [1, 32, 112, 112] [1, 32, 112, 112] --          --\n",
       "│    └─Sequential (1)                                        [1, 32, 112, 112] [1, 16, 112, 112] --          False\n",
       "│    │    └─MBConv (0)                                       [1, 32, 112, 112] [1, 16, 112, 112] (1,448)     False\n",
       "│    │    └─MBConv (1)                                       [1, 16, 112, 112] [1, 16, 112, 112] (612)       False\n",
       "│    └─Sequential (2)                                        [1, 16, 112, 112] [1, 24, 56, 56] --          False\n",
       "│    │    └─MBConv (0)                                       [1, 16, 112, 112] [1, 24, 56, 56] (6,004)     False\n",
       "│    │    └─MBConv (1)                                       [1, 24, 56, 56] [1, 24, 56, 56] (10,710)    False\n",
       "│    │    └─MBConv (2)                                       [1, 24, 56, 56] [1, 24, 56, 56] (10,710)    False\n",
       "│    └─Sequential (3)                                        [1, 24, 56, 56] [1, 48, 28, 28] --          False\n",
       "│    │    └─MBConv (0)                                       [1, 24, 56, 56] [1, 48, 28, 28] (16,518)    False\n",
       "│    │    └─MBConv (1)                                       [1, 48, 28, 28] [1, 48, 28, 28] (43,308)    False\n",
       "│    │    └─MBConv (2)                                       [1, 48, 28, 28] [1, 48, 28, 28] (43,308)    False\n",
       "│    └─Sequential (4)                                        [1, 48, 28, 28] [1, 88, 14, 14] --          False\n",
       "│    │    └─MBConv (0)                                       [1, 48, 28, 28] [1, 88, 14, 14] (50,300)    False\n",
       "│    │    └─MBConv (1)                                       [1, 88, 14, 14] [1, 88, 14, 14] (123,750)   False\n",
       "│    │    └─MBConv (2)                                       [1, 88, 14, 14] [1, 88, 14, 14] (123,750)   False\n",
       "│    │    └─MBConv (3)                                       [1, 88, 14, 14] [1, 88, 14, 14] (123,750)   False\n",
       "│    └─Sequential (5)                                        [1, 88, 14, 14] [1, 120, 14, 14] --          False\n",
       "│    │    └─MBConv (0)                                       [1, 88, 14, 14] [1, 120, 14, 14] (149,158)   False\n",
       "│    │    └─MBConv (1)                                       [1, 120, 14, 14] [1, 120, 14, 14] (237,870)   False\n",
       "│    │    └─MBConv (2)                                       [1, 120, 14, 14] [1, 120, 14, 14] (237,870)   False\n",
       "│    │    └─MBConv (3)                                       [1, 120, 14, 14] [1, 120, 14, 14] (237,870)   False\n",
       "│    └─Sequential (6)                                        [1, 120, 14, 14] [1, 208, 7, 7] --          False\n",
       "│    │    └─MBConv (0)                                       [1, 120, 14, 14] [1, 208, 7, 7] (301,406)   False\n",
       "│    │    └─MBConv (1)                                       [1, 208, 7, 7] [1, 208, 7, 7] (686,868)   False\n",
       "│    │    └─MBConv (2)                                       [1, 208, 7, 7] [1, 208, 7, 7] (686,868)   False\n",
       "│    │    └─MBConv (3)                                       [1, 208, 7, 7] [1, 208, 7, 7] (686,868)   False\n",
       "│    │    └─MBConv (4)                                       [1, 208, 7, 7] [1, 208, 7, 7] (686,868)   False\n",
       "│    └─Sequential (7)                                        [1, 208, 7, 7] [1, 352, 7, 7] --          False\n",
       "│    │    └─MBConv (0)                                       [1, 208, 7, 7] [1, 352, 7, 7] (846,900)   False\n",
       "│    │    └─MBConv (1)                                       [1, 352, 7, 7] [1, 352, 7, 7] (1,888,920) False\n",
       "│    └─Conv2dNormActivation (8)                              [1, 352, 7, 7] [1, 1408, 7, 7] --          False\n",
       "│    │    └─Conv2d (0)                                       [1, 352, 7, 7] [1, 1408, 7, 7] (495,616)   False\n",
       "│    │    └─BatchNorm2d (1)                                  [1, 1408, 7, 7] [1, 1408, 7, 7] (2,816)     False\n",
       "│    │    └─SiLU (2)                                         [1, 1408, 7, 7] [1, 1408, 7, 7] --          --\n",
       "├─AdaptiveAvgPool2d (avgpool)                                [1, 1408, 7, 7] [1, 1408, 1, 1] --          --\n",
       "├─Sequential (classifier)                                    [1, 1408]   [1, 1000]   --          False\n",
       "│    └─Dropout (0)                                           [1, 1408]   [1, 1408]   --          --\n",
       "│    └─Linear (1)                                            [1, 1408]   [1, 1000]   (1,409,000) False\n",
       "========================================================================================================\n",
       "Total params: 9,109,994\n",
       "Trainable params: 0\n",
       "Non-trainable params: 9,109,994\n",
       "Total mult-adds (Units.MEGABYTES): 659.05\n",
       "========================================================================================================\n",
       "Input size (MB): 0.60\n",
       "Forward/backward pass size (MB): 156.81\n",
       "Params size (MB): 36.44\n",
       "Estimated Total Size (MB): 193.85\n",
       "========================================================================================================"
      ]
     },
     "execution_count": 21,
     "metadata": {},
     "output_type": "execute_result"
    }
   ],
   "source": [
    "from torchinfo import summary\n",
    "\n",
    "# Print EffNetB2 model summary (uncomment for full output) \n",
    "summary(effnetb2, \n",
    "        input_size=(1, 3, 224, 224),\n",
    "        col_names=[\"input_size\", \"output_size\", \"num_params\", \"trainable\"],\n",
    "        col_width=11,\n",
    "        row_settings=[\"var_names\"])\n",
    "     "
   ]
  },
  {
   "cell_type": "code",
   "execution_count": 22,
   "metadata": {},
   "outputs": [
    {
     "data": {
      "text/plain": [
       "Sequential(\n",
       "  (0): Dropout(p=0.3, inplace=True)\n",
       "  (1): Linear(in_features=1408, out_features=1000, bias=True)\n",
       ")"
      ]
     },
     "execution_count": 22,
     "metadata": {},
     "output_type": "execute_result"
    }
   ],
   "source": [
    "effnetb2.classifier"
   ]
  },
  {
   "cell_type": "code",
   "execution_count": 24,
   "metadata": {},
   "outputs": [],
   "source": [
    "set_seeds()\n",
    "\n",
    "effnetb2.classifier= nn.Sequential(\n",
    "    nn.Dropout(p=0.3, inplace=True),\n",
    "    nn.Linear(in_features=1408, out_features=3))\n"
   ]
  },
  {
   "cell_type": "code",
   "execution_count": 25,
   "metadata": {},
   "outputs": [
    {
     "data": {
      "text/plain": [
       "========================================================================================================\n",
       "Layer (type (var_name))                                      Input Shape Output Shape Param #     Trainable\n",
       "========================================================================================================\n",
       "EfficientNet (EfficientNet)                                  [1, 3, 224, 224] [1, 3]      --          Partial\n",
       "├─Sequential (features)                                      [1, 3, 224, 224] [1, 1408, 7, 7] --          False\n",
       "│    └─Conv2dNormActivation (0)                              [1, 3, 224, 224] [1, 32, 112, 112] --          False\n",
       "│    │    └─Conv2d (0)                                       [1, 3, 224, 224] [1, 32, 112, 112] (864)       False\n",
       "│    │    └─BatchNorm2d (1)                                  [1, 32, 112, 112] [1, 32, 112, 112] (64)        False\n",
       "│    │    └─SiLU (2)                                         [1, 32, 112, 112] [1, 32, 112, 112] --          --\n",
       "│    └─Sequential (1)                                        [1, 32, 112, 112] [1, 16, 112, 112] --          False\n",
       "│    │    └─MBConv (0)                                       [1, 32, 112, 112] [1, 16, 112, 112] (1,448)     False\n",
       "│    │    └─MBConv (1)                                       [1, 16, 112, 112] [1, 16, 112, 112] (612)       False\n",
       "│    └─Sequential (2)                                        [1, 16, 112, 112] [1, 24, 56, 56] --          False\n",
       "│    │    └─MBConv (0)                                       [1, 16, 112, 112] [1, 24, 56, 56] (6,004)     False\n",
       "│    │    └─MBConv (1)                                       [1, 24, 56, 56] [1, 24, 56, 56] (10,710)    False\n",
       "│    │    └─MBConv (2)                                       [1, 24, 56, 56] [1, 24, 56, 56] (10,710)    False\n",
       "│    └─Sequential (3)                                        [1, 24, 56, 56] [1, 48, 28, 28] --          False\n",
       "│    │    └─MBConv (0)                                       [1, 24, 56, 56] [1, 48, 28, 28] (16,518)    False\n",
       "│    │    └─MBConv (1)                                       [1, 48, 28, 28] [1, 48, 28, 28] (43,308)    False\n",
       "│    │    └─MBConv (2)                                       [1, 48, 28, 28] [1, 48, 28, 28] (43,308)    False\n",
       "│    └─Sequential (4)                                        [1, 48, 28, 28] [1, 88, 14, 14] --          False\n",
       "│    │    └─MBConv (0)                                       [1, 48, 28, 28] [1, 88, 14, 14] (50,300)    False\n",
       "│    │    └─MBConv (1)                                       [1, 88, 14, 14] [1, 88, 14, 14] (123,750)   False\n",
       "│    │    └─MBConv (2)                                       [1, 88, 14, 14] [1, 88, 14, 14] (123,750)   False\n",
       "│    │    └─MBConv (3)                                       [1, 88, 14, 14] [1, 88, 14, 14] (123,750)   False\n",
       "│    └─Sequential (5)                                        [1, 88, 14, 14] [1, 120, 14, 14] --          False\n",
       "│    │    └─MBConv (0)                                       [1, 88, 14, 14] [1, 120, 14, 14] (149,158)   False\n",
       "│    │    └─MBConv (1)                                       [1, 120, 14, 14] [1, 120, 14, 14] (237,870)   False\n",
       "│    │    └─MBConv (2)                                       [1, 120, 14, 14] [1, 120, 14, 14] (237,870)   False\n",
       "│    │    └─MBConv (3)                                       [1, 120, 14, 14] [1, 120, 14, 14] (237,870)   False\n",
       "│    └─Sequential (6)                                        [1, 120, 14, 14] [1, 208, 7, 7] --          False\n",
       "│    │    └─MBConv (0)                                       [1, 120, 14, 14] [1, 208, 7, 7] (301,406)   False\n",
       "│    │    └─MBConv (1)                                       [1, 208, 7, 7] [1, 208, 7, 7] (686,868)   False\n",
       "│    │    └─MBConv (2)                                       [1, 208, 7, 7] [1, 208, 7, 7] (686,868)   False\n",
       "│    │    └─MBConv (3)                                       [1, 208, 7, 7] [1, 208, 7, 7] (686,868)   False\n",
       "│    │    └─MBConv (4)                                       [1, 208, 7, 7] [1, 208, 7, 7] (686,868)   False\n",
       "│    └─Sequential (7)                                        [1, 208, 7, 7] [1, 352, 7, 7] --          False\n",
       "│    │    └─MBConv (0)                                       [1, 208, 7, 7] [1, 352, 7, 7] (846,900)   False\n",
       "│    │    └─MBConv (1)                                       [1, 352, 7, 7] [1, 352, 7, 7] (1,888,920) False\n",
       "│    └─Conv2dNormActivation (8)                              [1, 352, 7, 7] [1, 1408, 7, 7] --          False\n",
       "│    │    └─Conv2d (0)                                       [1, 352, 7, 7] [1, 1408, 7, 7] (495,616)   False\n",
       "│    │    └─BatchNorm2d (1)                                  [1, 1408, 7, 7] [1, 1408, 7, 7] (2,816)     False\n",
       "│    │    └─SiLU (2)                                         [1, 1408, 7, 7] [1, 1408, 7, 7] --          --\n",
       "├─AdaptiveAvgPool2d (avgpool)                                [1, 1408, 7, 7] [1, 1408, 1, 1] --          --\n",
       "├─Sequential (classifier)                                    [1, 1408]   [1, 3]      --          True\n",
       "│    └─Dropout (0)                                           [1, 1408]   [1, 1408]   --          --\n",
       "│    └─Linear (1)                                            [1, 1408]   [1, 3]      4,227       True\n",
       "========================================================================================================\n",
       "Total params: 7,705,221\n",
       "Trainable params: 4,227\n",
       "Non-trainable params: 7,700,994\n",
       "Total mult-adds (Units.MEGABYTES): 657.64\n",
       "========================================================================================================\n",
       "Input size (MB): 0.60\n",
       "Forward/backward pass size (MB): 156.80\n",
       "Params size (MB): 30.82\n",
       "Estimated Total Size (MB): 188.22\n",
       "========================================================================================================"
      ]
     },
     "execution_count": 25,
     "metadata": {},
     "output_type": "execute_result"
    }
   ],
   "source": [
    "summary(effnetb2, \n",
    "        input_size=(1, 3, 224, 224),\n",
    "        col_names=[\"input_size\", \"output_size\", \"num_params\", \"trainable\"],\n",
    "        col_width=11,\n",
    "        row_settings=[\"var_names\"])\n",
    "     "
   ]
  },
  {
   "cell_type": "markdown",
   "metadata": {},
   "source": [
    "### 3.1 Creating a function to make an EffNetB2 feature extractor\n"
   ]
  },
  {
   "cell_type": "code",
   "execution_count": 26,
   "metadata": {},
   "outputs": [],
   "source": [
    "def create_effnetb2_model(num_classes:int=3,seed:int=42):\n",
    "    \n",
    "    weights = torchvision.models.EfficientNet_B2_Weights.DEFAULT\n",
    "    transforms = weights.transforms()\n",
    "    model = torchvision.models.efficientnet_b2(weights=weights)\n",
    "\n",
    "    for param in model.parameters():\n",
    "        param.requires_grad = False\n",
    "\n",
    "    torch.manual_seed(seed)\n",
    "    model.classifier = nn.Sequential(\n",
    "        nn.Dropout(p=0.3, inplace=True),\n",
    "        nn.Linear(in_features=1408, out_features=num_classes)\n",
    "    )\n",
    "\n",
    "    return model, transforms\n",
    "     "
   ]
  },
  {
   "cell_type": "code",
   "execution_count": 27,
   "metadata": {},
   "outputs": [],
   "source": [
    "effnetb2, effnetb2_transforms = create_effnetb2_model(num_classes=3,seed=42)"
   ]
  },
  {
   "cell_type": "code",
   "execution_count": 31,
   "metadata": {
    "scrolled": false
   },
   "outputs": [],
   "source": [
    "# summary(effnetb2, \n",
    "#         input_size=(1, 3, 224, 224),\n",
    "#         col_names=[\"input_size\", \"output_size\", \"num_params\", \"trainable\"],\n",
    "#         col_width=10,\n",
    "#         row_settings=[\"var_names\"])\n",
    "     "
   ]
  },
  {
   "cell_type": "markdown",
   "metadata": {},
   "source": [
    "### 3.2 Creating DataLoaders for EffNetB2\n"
   ]
  },
  {
   "cell_type": "code",
   "execution_count": 32,
   "metadata": {},
   "outputs": [
    {
     "data": {
      "text/plain": [
       "(15, 5, ['pizza', 'steak', 'sushi'])"
      ]
     },
     "execution_count": 32,
     "metadata": {},
     "output_type": "execute_result"
    }
   ],
   "source": [
    "from going_modular.going_modular import data_setup\n",
    "\n",
    "train_dataloader_effnetb2, test_dataloader_effnetb2, class_names = data_setup.create_dataloaders(\n",
    "                                                                     train_dir=train_dir,\n",
    "                                                                     test_dir=test_dir,\n",
    "                                                                     transform=effnetb2_transforms,\n",
    "                                                                     batch_size=32)\n",
    "     \n",
    "len(train_dataloader_effnetb2), len(test_dataloader_effnetb2), class_names\n"
   ]
  },
  {
   "cell_type": "markdown",
   "metadata": {},
   "source": [
    "### 3.3 Training EffNetB2 feature extractor\n"
   ]
  },
  {
   "cell_type": "code",
   "execution_count": 38,
   "metadata": {},
   "outputs": [
    {
     "name": "stdout",
     "output_type": "stream",
     "text": [
      "Epoch: 1 | train_loss: 0.9884 | train_acc: 0.5500 | test_loss: 0.7394 | test_acc: 0.9409\n",
      "Epoch: 2 | train_loss: 0.7132 | train_acc: 0.8583 | test_loss: 0.5780 | test_acc: 0.9318\n",
      "Epoch: 3 | train_loss: 0.5799 | train_acc: 0.8979 | test_loss: 0.4813 | test_acc: 0.9500\n",
      "Epoch: 4 | train_loss: 0.4636 | train_acc: 0.8917 | test_loss: 0.4281 | test_acc: 0.9437\n",
      "Epoch: 5 | train_loss: 0.4290 | train_acc: 0.8917 | test_loss: 0.3893 | test_acc: 0.9443\n",
      "Epoch: 6 | train_loss: 0.4111 | train_acc: 0.9042 | test_loss: 0.3510 | test_acc: 0.9688\n",
      "Epoch: 7 | train_loss: 0.4267 | train_acc: 0.8542 | test_loss: 0.3205 | test_acc: 0.9563\n",
      "Epoch: 8 | train_loss: 0.4196 | train_acc: 0.8958 | test_loss: 0.3369 | test_acc: 0.9597\n",
      "Epoch: 9 | train_loss: 0.3661 | train_acc: 0.8833 | test_loss: 0.3098 | test_acc: 0.9347\n",
      "Epoch: 10 | train_loss: 0.3537 | train_acc: 0.8688 | test_loss: 0.2787 | test_acc: 0.9563\n"
     ]
    }
   ],
   "source": [
    "from going_modular.going_modular import engine\n",
    "\n",
    "loss_fn = torch.nn.CrossEntropyLoss()\n",
    "\n",
    "optimizer = torch.optim.Adam(params=effnetb2.parameters(),lr=1e-3)\n",
    "\n",
    "set_seeds()\n",
    "effnetb2_results = engine.train(model=effnetb2,\n",
    "                                train_dataloader=train_dataloader_effnetb2,\n",
    "                                test_dataloader=test_dataloader_effnetb2,\n",
    "                                epochs=10,\n",
    "                                optimizer=optimizer,\n",
    "                                loss_fn=loss_fn, \n",
    "                                device=device)\n",
    "     \n"
   ]
  },
  {
   "cell_type": "markdown",
   "metadata": {},
   "source": [
    "### 3.4 Inspecting EffNetB2 loss curves"
   ]
  },
  {
   "cell_type": "code",
   "execution_count": 40,
   "metadata": {},
   "outputs": [
    {
     "data": {
      "image/png": "[encoded data removed]",
      "text/plain": [
       "<Figure size 1500x700 with 2 Axes>"
      ]
     },
     "metadata": {},
     "output_type": "display_data"
    }
   ],
   "source": [
    "from helper_functions import plot_loss_curves\n",
    "\n",
    "plot_loss_curves(effnetb2_results)\n"
   ]
  },
  {
   "cell_type": "markdown",
   "metadata": {},
   "source": [
    "See here for what an ideal loss curve should look like: https://www.learnpytorch.io/04_pytorch_custom_datasets/#8-what-should-an-ideal-loss-curve-look-like\n",
    "\n"
   ]
  },
  {
   "cell_type": "markdown",
   "metadata": {},
   "source": [
    "### 3.5 Saving EffNetB2 feature extractor"
   ]
  },
  {
   "cell_type": "code",
   "execution_count": 41,
   "metadata": {},
   "outputs": [
    {
     "name": "stdout",
     "output_type": "stream",
     "text": [
      "[INFO] Saving model to: models/09_pretrained_effnetb2_feature_extractor_pizza_steak_sushi_20_percent.pth\n"
     ]
    }
   ],
   "source": [
    "from going_modular.going_modular import utils\n",
    "\n",
    "utils.save_model(model=effnetb2,\n",
    "                 target_dir=\"models\",\n",
    "                 model_name=\"09_pretrained_effnetb2_feature_extractor_pizza_steak_sushi_20_percent.pth\")"
   ]
  },
  {
   "cell_type": "markdown",
   "metadata": {},
   "source": [
    "### 3.6 Inspecting the size of our EffNetB2 feature extractor\n",
    "Why would it be important to consider the size of a saved model?\n",
    "\n",
    "If we're deploying our model to be used on a mobile app/website, there may be limited compute resources.\n",
    "\n",
    "So if our model file is too large, we may not be able to store/run it on our target device."
   ]
  },
  {
   "cell_type": "code",
   "execution_count": 48,
   "metadata": {},
   "outputs": [
    {
     "name": "stdout",
     "output_type": "stream",
     "text": [
      "Pretrained EffNetB2 feature extractor model size: 29.86 MB\n"
     ]
    }
   ],
   "source": [
    "from pathlib import Path\n",
    "\n",
    "pretrained_effnetb2_model_size = Path(\"models/09_pretrained_effnetb2_feature_extractor_pizza_steak_sushi_20_percent.pth\").stat().st_size / (1024 * 1024)\n",
    "print(f\"Pretrained EffNetB2 feature extractor model size: {round(pretrained_effnetb2_model_size, 2)} MB\")\n",
    "     "
   ]
  },
  {
   "cell_type": "markdown",
   "metadata": {},
   "source": [
    "### 3.7 Collecting EffNetB2 feature extractor stats\n"
   ]
  },
  {
   "cell_type": "code",
   "execution_count": 50,
   "metadata": {},
   "outputs": [
    {
     "data": {
      "text/plain": [
       "3"
      ]
     },
     "execution_count": 50,
     "metadata": {},
     "output_type": "execute_result"
    }
   ],
   "source": [
    "torch.numel(torch.tensor([1,2,3]))"
   ]
  },
  {
   "cell_type": "code",
   "execution_count": 52,
   "metadata": {},
   "outputs": [
    {
     "data": {
      "text/plain": [
       "7705221"
      ]
     },
     "execution_count": 52,
     "metadata": {},
     "output_type": "execute_result"
    }
   ],
   "source": [
    "sum(torch.numel(param) for param in effnetb2.parameters())"
   ]
  },
  {
   "cell_type": "code",
   "execution_count": 70,
   "metadata": {},
   "outputs": [
    {
     "data": {
      "text/plain": [
       "7705221"
      ]
     },
     "execution_count": 70,
     "metadata": {},
     "output_type": "execute_result"
    }
   ],
   "source": [
    "# Count number of parameters in EffNetB2\n",
    "effnetb2_total_params = sum(torch.numel(param) for param in effnetb2.parameters())\n",
    "effnetb2_total_params"
   ]
  },
  {
   "cell_type": "code",
   "execution_count": 83,
   "metadata": {},
   "outputs": [
    {
     "data": {
      "text/plain": [
       "[864,\n",
       " 32,\n",
       " 32,\n",
       " 288,\n",
       " 32,\n",
       " 32,\n",
       " 256,\n",
       " 8,\n",
       " 256,\n",
       " 32,\n",
       " 512,\n",
       " 16,\n",
       " 16,\n",
       " 144,\n",
       " 16,\n",
       " 16,\n",
       " 64,\n",
       " 4,\n",
       " 64,\n",
       " 16,\n",
       " 256,\n",
       " 16,\n",
       " 16,\n",
       " 1536,\n",
       " 96,\n",
       " 96,\n",
       " 864,\n",
       " 96,\n",
       " 96,\n",
       " 384,\n",
       " 4,\n",
       " 384,\n",
       " 96,\n",
       " 2304,\n",
       " 24,\n",
       " 24,\n",
       " 3456,\n",
       " 144,\n",
       " 144,\n",
       " 1296,\n",
       " 144,\n",
       " 144,\n",
       " 864,\n",
       " 6,\n",
       " 864,\n",
       " 144,\n",
       " 3456,\n",
       " 24,\n",
       " 24,\n",
       " 3456,\n",
       " 144,\n",
       " 144,\n",
       " 1296,\n",
       " 144,\n",
       " 144,\n",
       " 864,\n",
       " 6,\n",
       " 864,\n",
       " 144,\n",
       " 3456,\n",
       " 24,\n",
       " 24,\n",
       " 3456,\n",
       " 144,\n",
       " 144,\n",
       " 3600,\n",
       " 144,\n",
       " 144,\n",
       " 864,\n",
       " 6,\n",
       " 864,\n",
       " 144,\n",
       " 6912,\n",
       " 48,\n",
       " 48,\n",
       " 13824,\n",
       " 288,\n",
       " 288,\n",
       " 7200,\n",
       " 288,\n",
       " 288,\n",
       " 3456,\n",
       " 12,\n",
       " 3456,\n",
       " 288,\n",
       " 13824,\n",
       " 48,\n",
       " 48,\n",
       " 13824,\n",
       " 288,\n",
       " 288,\n",
       " 7200,\n",
       " 288,\n",
       " 288,\n",
       " 3456,\n",
       " 12,\n",
       " 3456,\n",
       " 288,\n",
       " 13824,\n",
       " 48,\n",
       " 48,\n",
       " 13824,\n",
       " 288,\n",
       " 288,\n",
       " 2592,\n",
       " 288,\n",
       " 288,\n",
       " 3456,\n",
       " 12,\n",
       " 3456,\n",
       " 288,\n",
       " 25344,\n",
       " 88,\n",
       " 88,\n",
       " 46464,\n",
       " 528,\n",
       " 528,\n",
       " 4752,\n",
       " 528,\n",
       " 528,\n",
       " 11616,\n",
       " 22,\n",
       " 11616,\n",
       " 528,\n",
       " 46464,\n",
       " 88,\n",
       " 88,\n",
       " 46464,\n",
       " 528,\n",
       " 528,\n",
       " 4752,\n",
       " 528,\n",
       " 528,\n",
       " 11616,\n",
       " 22,\n",
       " 11616,\n",
       " 528,\n",
       " 46464,\n",
       " 88,\n",
       " 88,\n",
       " 46464,\n",
       " 528,\n",
       " 528,\n",
       " 4752,\n",
       " 528,\n",
       " 528,\n",
       " 11616,\n",
       " 22,\n",
       " 11616,\n",
       " 528,\n",
       " 46464,\n",
       " 88,\n",
       " 88,\n",
       " 46464,\n",
       " 528,\n",
       " 528,\n",
       " 13200,\n",
       " 528,\n",
       " 528,\n",
       " 11616,\n",
       " 22,\n",
       " 11616,\n",
       " 528,\n",
       " 63360,\n",
       " 120,\n",
       " 120,\n",
       " 86400,\n",
       " 720,\n",
       " 720,\n",
       " 18000,\n",
       " 720,\n",
       " 720,\n",
       " 21600,\n",
       " 30,\n",
       " 21600,\n",
       " 720,\n",
       " 86400,\n",
       " 120,\n",
       " 120,\n",
       " 86400,\n",
       " 720,\n",
       " 720,\n",
       " 18000,\n",
       " 720,\n",
       " 720,\n",
       " 21600,\n",
       " 30,\n",
       " 21600,\n",
       " 720,\n",
       " 86400,\n",
       " 120,\n",
       " 120,\n",
       " 86400,\n",
       " 720,\n",
       " 720,\n",
       " 18000,\n",
       " 720,\n",
       " 720,\n",
       " 21600,\n",
       " 30,\n",
       " 21600,\n",
       " 720,\n",
       " 86400,\n",
       " 120,\n",
       " 120,\n",
       " 86400,\n",
       " 720,\n",
       " 720,\n",
       " 18000,\n",
       " 720,\n",
       " 720,\n",
       " 21600,\n",
       " 30,\n",
       " 21600,\n",
       " 720,\n",
       " 149760,\n",
       " 208,\n",
       " 208,\n",
       " 259584,\n",
       " 1248,\n",
       " 1248,\n",
       " 31200,\n",
       " 1248,\n",
       " 1248,\n",
       " 64896,\n",
       " 52,\n",
       " 64896,\n",
       " 1248,\n",
       " 259584,\n",
       " 208,\n",
       " 208,\n",
       " 259584,\n",
       " 1248,\n",
       " 1248,\n",
       " 31200,\n",
       " 1248,\n",
       " 1248,\n",
       " 64896,\n",
       " 52,\n",
       " 64896,\n",
       " 1248,\n",
       " 259584,\n",
       " 208,\n",
       " 208,\n",
       " 259584,\n",
       " 1248,\n",
       " 1248,\n",
       " 31200,\n",
       " 1248,\n",
       " 1248,\n",
       " 64896,\n",
       " 52,\n",
       " 64896,\n",
       " 1248,\n",
       " 259584,\n",
       " 208,\n",
       " 208,\n",
       " 259584,\n",
       " 1248,\n",
       " 1248,\n",
       " 31200,\n",
       " 1248,\n",
       " 1248,\n",
       " 64896,\n",
       " 52,\n",
       " 64896,\n",
       " 1248,\n",
       " 259584,\n",
       " 208,\n",
       " 208,\n",
       " 259584,\n",
       " 1248,\n",
       " 1248,\n",
       " 11232,\n",
       " 1248,\n",
       " 1248,\n",
       " 64896,\n",
       " 52,\n",
       " 64896,\n",
       " 1248,\n",
       " 439296,\n",
       " 352,\n",
       " 352,\n",
       " 743424,\n",
       " 2112,\n",
       " 2112,\n",
       " 19008,\n",
       " 2112,\n",
       " 2112,\n",
       " 185856,\n",
       " 88,\n",
       " 185856,\n",
       " 2112,\n",
       " 743424,\n",
       " 352,\n",
       " 352,\n",
       " 495616,\n",
       " 1408,\n",
       " 1408,\n",
       " 4224,\n",
       " 3]"
      ]
     },
     "execution_count": 83,
     "metadata": {},
     "output_type": "execute_result"
    }
   ],
   "source": [
    "[torch.numel(param) for param in effnetb2.parameters()]"
   ]
  },
  {
   "cell_type": "code",
   "execution_count": 71,
   "metadata": {},
   "outputs": [
    {
     "data": {
      "text/plain": [
       "{'test_loss': 0.27869718074798583,\n",
       " 'test_acc': 0.95625,\n",
       " 'number_of_parameters': 7705221,\n",
       " 'model_size (MB)': 29.8638858795166}"
      ]
     },
     "execution_count": 71,
     "metadata": {},
     "output_type": "execute_result"
    }
   ],
   "source": [
    "# Create a dictionary with EffNetB2 statistics\n",
    "effnetb2_stats = {\"test_loss\": effnetb2_results[\"test_loss\"][-1],\n",
    "                  \"test_acc\": effnetb2_results[\"test_acc\"][-1],\n",
    "                  \"number_of_parameters\": effnetb2_total_params,\n",
    "                  \"model_size (MB)\": pretrained_effnetb2_model_size}\n",
    "\n",
    "effnetb2_stats"
   ]
  },
  {
   "cell_type": "code",
   "execution_count": 75,
   "metadata": {},
   "outputs": [
    {
     "data": {
      "text/plain": [
       "[0.7394458293914795,\n",
       " 0.5780010402202607,\n",
       " 0.4813401520252228,\n",
       " 0.42810977101325987,\n",
       " 0.38934711217880247,\n",
       " 0.3510460495948792,\n",
       " 0.32053725719451903,\n",
       " 0.3369010418653488,\n",
       " 0.3097884088754654,\n",
       " 0.27869718074798583]"
      ]
     },
     "execution_count": 75,
     "metadata": {},
     "output_type": "execute_result"
    }
   ],
   "source": [
    "effnetb2_results['test_loss']"
   ]
  },
  {
   "cell_type": "code",
   "execution_count": 84,
   "metadata": {},
   "outputs": [
    {
     "data": {
      "text/plain": [
       "0.27869718074798583"
      ]
     },
     "execution_count": 84,
     "metadata": {},
     "output_type": "execute_result"
    }
   ],
   "source": [
    "effnetb2_results['test_loss'][-1]"
   ]
  },
  {
   "cell_type": "markdown",
   "metadata": {},
   "source": [
    "## 4. Creating a ViT feature extractor\n",
    "We're up to our second modelling experiment, repeating the steps for EffNetB2 but this time with a ViT feature extractor, see here for ideas: https://www.learnpytorch.io/08_pytorch_paper_replicating/#10-using-a-pretrained-vit-from-torchvisionmodels-on-the-same-dataset\n",
    "\n"
   ]
  },
  {
   "cell_type": "code",
   "execution_count": 91,
   "metadata": {},
   "outputs": [
    {
     "data": {
      "text/plain": [
       "Sequential(\n",
       "  (head): Linear(in_features=768, out_features=1000, bias=True)\n",
       ")"
      ]
     },
     "execution_count": 91,
     "metadata": {},
     "output_type": "execute_result"
    }
   ],
   "source": [
    "vit=torchvision.models.vit_b_16()\n",
    "vit.heads"
   ]
  },
  {
   "cell_type": "code",
   "execution_count": 96,
   "metadata": {},
   "outputs": [],
   "source": [
    "def create_vit_model(num_lasses:int=3, seed:int=42):\n",
    "    weights= torchvision.models.ViT_B_16_Weights.DEFAULT\n",
    "    transforms= weights.transforms()\n",
    "    model= torchvision.models.vit_b_16(weights=weights)\n",
    "    \n",
    "    for param in model.parameters():\n",
    "        param.requires_grad=False\n",
    "    \n",
    "    torch.manual_seed(seed)\n",
    "    model.heads=nn.Sequential(\n",
    "        nn.Linear(in_features=768, out_features=num_lasses))\n",
    "    \n",
    "    return model, transforms\n",
    "\n"
   ]
  },
  {
   "cell_type": "code",
   "execution_count": 104,
   "metadata": {},
   "outputs": [
    {
     "data": {
      "text/plain": [
       "ImageClassification(\n",
       "    crop_size=[224]\n",
       "    resize_size=[256]\n",
       "    mean=[0.485, 0.456, 0.406]\n",
       "    std=[0.229, 0.224, 0.225]\n",
       "    interpolation=InterpolationMode.BILINEAR\n",
       ")"
      ]
     },
     "execution_count": 104,
     "metadata": {},
     "output_type": "execute_result"
    }
   ],
   "source": [
    "vit, vit_transforms=create_vit_model(num_lasses=3)\n",
    "vit_transforms"
   ]
  },
  {
   "cell_type": "code",
   "execution_count": 105,
   "metadata": {},
   "outputs": [
    {
     "data": {
      "text/plain": [
       "ImageClassification(\n",
       "    crop_size=[288]\n",
       "    resize_size=[288]\n",
       "    mean=[0.485, 0.456, 0.406]\n",
       "    std=[0.229, 0.224, 0.225]\n",
       "    interpolation=InterpolationMode.BICUBIC\n",
       ")"
      ]
     },
     "execution_count": 105,
     "metadata": {},
     "output_type": "execute_result"
    }
   ],
   "source": [
    "effnetb2_transforms"
   ]
  },
  {
   "cell_type": "code",
   "execution_count": 102,
   "metadata": {},
   "outputs": [
    {
     "data": {
      "text/plain": [
       "================================================================================================================\n",
       "Layer (type (var_name))                                      Input Shape   Output Shape  Param #       Trainable\n",
       "================================================================================================================\n",
       "VisionTransformer (VisionTransformer)                        [1, 3, 224, 224] [1, 3]        768           Partial\n",
       "├─Conv2d (conv_proj)                                         [1, 3, 224, 224] [1, 768, 14, 14] (590,592)     False\n",
       "├─Encoder (encoder)                                          [1, 197, 768] [1, 197, 768] 151,296       False\n",
       "│    └─Dropout (dropout)                                     [1, 197, 768] [1, 197, 768] --            --\n",
       "│    └─Sequential (layers)                                   [1, 197, 768] [1, 197, 768] --            False\n",
       "│    │    └─EncoderBlock (encoder_layer_0)                   [1, 197, 768] [1, 197, 768] (7,087,872)   False\n",
       "│    │    └─EncoderBlock (encoder_layer_1)                   [1, 197, 768] [1, 197, 768] (7,087,872)   False\n",
       "│    │    └─EncoderBlock (encoder_layer_2)                   [1, 197, 768] [1, 197, 768] (7,087,872)   False\n",
       "│    │    └─EncoderBlock (encoder_layer_3)                   [1, 197, 768] [1, 197, 768] (7,087,872)   False\n",
       "│    │    └─EncoderBlock (encoder_layer_4)                   [1, 197, 768] [1, 197, 768] (7,087,872)   False\n",
       "│    │    └─EncoderBlock (encoder_layer_5)                   [1, 197, 768] [1, 197, 768] (7,087,872)   False\n",
       "│    │    └─EncoderBlock (encoder_layer_6)                   [1, 197, 768] [1, 197, 768] (7,087,872)   False\n",
       "│    │    └─EncoderBlock (encoder_layer_7)                   [1, 197, 768] [1, 197, 768] (7,087,872)   False\n",
       "│    │    └─EncoderBlock (encoder_layer_8)                   [1, 197, 768] [1, 197, 768] (7,087,872)   False\n",
       "│    │    └─EncoderBlock (encoder_layer_9)                   [1, 197, 768] [1, 197, 768] (7,087,872)   False\n",
       "│    │    └─EncoderBlock (encoder_layer_10)                  [1, 197, 768] [1, 197, 768] (7,087,872)   False\n",
       "│    │    └─EncoderBlock (encoder_layer_11)                  [1, 197, 768] [1, 197, 768] (7,087,872)   False\n",
       "│    └─LayerNorm (ln)                                        [1, 197, 768] [1, 197, 768] (1,536)       False\n",
       "├─Sequential (heads)                                         [1, 768]      [1, 3]        --            True\n",
       "│    └─Linear (0)                                            [1, 768]      [1, 3]        2,307         True\n",
       "================================================================================================================\n",
       "Total params: 85,800,963\n",
       "Trainable params: 2,307\n",
       "Non-trainable params: 85,798,656\n",
       "Total mult-adds (Units.MEGABYTES): 172.47\n",
       "================================================================================================================\n",
       "Input size (MB): 0.60\n",
       "Forward/backward pass size (MB): 104.09\n",
       "Params size (MB): 229.20\n",
       "Estimated Total Size (MB): 333.89\n",
       "================================================================================================================"
      ]
     },
     "execution_count": 102,
     "metadata": {},
     "output_type": "execute_result"
    }
   ],
   "source": [
    "summary(vit, \n",
    "        input_size=(1, 3, 224, 224),\n",
    "        col_names=[\"input_size\", \"output_size\", \"num_params\", \"trainable\"],\n",
    "        col_width=13,\n",
    "        row_settings=[\"var_names\"])\n",
    "     "
   ]
  },
  {
   "cell_type": "markdown",
   "metadata": {},
   "source": [
    "### 4.1 Creating DataLoaders for ViT feature extractor\n"
   ]
  },
  {
   "cell_type": "code",
   "execution_count": 103,
   "metadata": {},
   "outputs": [
    {
     "data": {
      "text/plain": [
       "(15, 5, ['pizza', 'steak', 'sushi'])"
      ]
     },
     "execution_count": 103,
     "metadata": {},
     "output_type": "execute_result"
    }
   ],
   "source": [
    "from going_modular.going_modular import data_setup\n",
    "train_dataloader_vit, test_dataloader_vit, class_names = data_setup.create_dataloaders(train_dir=train_dir,\n",
    "                                                                                       test_dir=test_dir,\n",
    "                                                                                       transform=vit_transforms,\n",
    "                                                                                       batch_size=32)\n",
    "len(train_dataloader_vit), len(test_dataloader_vit), class_names\n",
    "     "
   ]
  },
  {
   "cell_type": "markdown",
   "metadata": {},
   "source": [
    "### 4.2 Training ViT Feature Extractor\n"
   ]
  },
  {
   "cell_type": "code",
   "execution_count": 106,
   "metadata": {},
   "outputs": [
    {
     "name": "stdout",
     "output_type": "stream",
     "text": [
      "Epoch: 1 | train_loss: 0.7020 | train_acc: 0.7521 | test_loss: 0.2714 | test_acc: 0.9381\n",
      "Epoch: 2 | train_loss: 0.2532 | train_acc: 0.9062 | test_loss: 0.1672 | test_acc: 0.9602\n",
      "Epoch: 3 | train_loss: 0.1764 | train_acc: 0.9542 | test_loss: 0.1273 | test_acc: 0.9693\n",
      "Epoch: 4 | train_loss: 0.1276 | train_acc: 0.9625 | test_loss: 0.1074 | test_acc: 0.9722\n",
      "Epoch: 5 | train_loss: 0.1159 | train_acc: 0.9646 | test_loss: 0.0953 | test_acc: 0.9784\n",
      "Epoch: 6 | train_loss: 0.1274 | train_acc: 0.9375 | test_loss: 0.0832 | test_acc: 0.9722\n",
      "Epoch: 7 | train_loss: 0.0897 | train_acc: 0.9771 | test_loss: 0.0845 | test_acc: 0.9784\n",
      "Epoch: 8 | train_loss: 0.0919 | train_acc: 0.9812 | test_loss: 0.0764 | test_acc: 0.9722\n",
      "Epoch: 9 | train_loss: 0.0922 | train_acc: 0.9792 | test_loss: 0.0734 | test_acc: 0.9784\n",
      "Epoch: 10 | train_loss: 0.0658 | train_acc: 0.9833 | test_loss: 0.0644 | test_acc: 0.9847\n"
     ]
    }
   ],
   "source": [
    "from going_modular.going_modular import engine\n",
    "\n",
    "optimizer= torch.optim.Adam(params=vit.parameters(), lr=1e-3)\n",
    "loss_fn=nn.CrossEntropyLoss()\n",
    "\n",
    "set_seeds()\n",
    "vit_results= engine.train(model=vit,\n",
    "                         train_dataloader=train_dataloader_vit,\n",
    "                         test_dataloader=test_dataloader_vit,\n",
    "                         optimizer=optimizer,\n",
    "                         loss_fn=loss_fn,\n",
    "                         epochs=10,\n",
    "                         device=device)"
   ]
  },
  {
   "cell_type": "markdown",
   "metadata": {},
   "source": [
    "### 4.3 Plot loss curves of ViT feature extractor\n"
   ]
  },
  {
   "cell_type": "code",
   "execution_count": 107,
   "metadata": {},
   "outputs": [
    {
     "data": {
      "image/png": "[encoded data removed]",
      "text/plain": [
       "<Figure size 1500x700 with 2 Axes>"
      ]
     },
     "metadata": {},
     "output_type": "display_data"
    }
   ],
   "source": [
    "from helper_functions import plot_loss_curves\n",
    "\n",
    "plot_loss_curves(vit_results)"
   ]
  },
  {
   "cell_type": "markdown",
   "metadata": {},
   "source": [
    "For more on what an ideal loss curves should look like see here: https://www.learnpytorch.io/04_pytorch_custom_datasets/#8-what-should-an-ideal-loss-curve-look-like"
   ]
  },
  {
   "cell_type": "markdown",
   "metadata": {},
   "source": [
    "### 4.4 Saving ViT feature extractor\n"
   ]
  },
  {
   "cell_type": "code",
   "execution_count": 108,
   "metadata": {},
   "outputs": [
    {
     "name": "stdout",
     "output_type": "stream",
     "text": [
      "[INFO] Saving model to: models/09_pretrained_vit_feature_extractor_pizza_steak_sushi_20_percent.pth\n"
     ]
    }
   ],
   "source": [
    "from going_modular.going_modular import utils\n",
    "\n",
    "utils.save_model(model=vit,\n",
    "                target_dir=\"models\",\n",
    "                model_name=\"09_pretrained_vit_feature_extractor_pizza_steak_sushi_20_percent.pth\")"
   ]
  },
  {
   "cell_type": "markdown",
   "metadata": {},
   "source": [
    "### 4.5 Checking the size of ViT feature extractor\n"
   ]
  },
  {
   "cell_type": "code",
   "execution_count": 113,
   "metadata": {},
   "outputs": [
    {
     "name": "stdout",
     "output_type": "stream",
     "text": [
      "Pretrained ViT feature extractor model size: 327.37 MB\n"
     ]
    }
   ],
   "source": [
    "from pathlib import Path\n",
    "\n",
    "pretrained_vit_model_size=Path(\"models/09_pretrained_vit_feature_extractor_pizza_steak_sushi_20_percent.pth\").stat().st_size/(1024*1024)\n",
    "print(f\"Pretrained ViT feature extractor model size: {round(pretrained_vit_model_size, 2)} MB\")"
   ]
  },
  {
   "cell_type": "markdown",
   "metadata": {},
   "source": [
    "### 4.6 Collecting ViT feature extractor stats\n"
   ]
  },
  {
   "cell_type": "code",
   "execution_count": 118,
   "metadata": {},
   "outputs": [
    {
     "data": {
      "text/plain": [
       "85800963"
      ]
     },
     "execution_count": 118,
     "metadata": {},
     "output_type": "execute_result"
    }
   ],
   "source": [
    "vit_total_params= sum(torch.numel(param) for param in vit.parameters())\n",
    "vit_total_params"
   ]
  },
  {
   "cell_type": "code",
   "execution_count": 121,
   "metadata": {},
   "outputs": [
    {
     "data": {
      "text/plain": [
       "{'test_loss': 0.06443450534716248,\n",
       " 'test_acc': 0.984659090909091,\n",
       " 'number_of_parameters': 85800963,\n",
       " 'model_size (MB)': 327.37096977233887}"
      ]
     },
     "execution_count": 121,
     "metadata": {},
     "output_type": "execute_result"
    }
   ],
   "source": [
    "vit_stats={'test_loss':vit_results['test_loss'][-1],\n",
    "          'test_acc':vit_results['test_acc'][-1],\n",
    "          'number_of_parameters':vit_total_params,\n",
    "          'model_size (MB)':pretrained_vit_model_size}\n",
    "\n",
    "vit_stats"
   ]
  },
  {
   "cell_type": "code",
   "execution_count": 120,
   "metadata": {},
   "outputs": [
    {
     "data": {
      "text/plain": [
       "{'test_loss': 0.27869718074798583,\n",
       " 'test_acc': 0.95625,\n",
       " 'number_of_parameters': 7705221,\n",
       " 'model_size (MB)': 29.8638858795166}"
      ]
     },
     "execution_count": 120,
     "metadata": {},
     "output_type": "execute_result"
    }
   ],
   "source": [
    "effnetb2_stats"
   ]
  },
  {
   "cell_type": "markdown",
   "metadata": {},
   "source": [
    "## 5. Making predictions with our trained models and timing them\n",
    "\n",
    "Our goal:\n",
    "\n",
    "- Performs well (95%+ test accuracy)\n",
    "- Fast (30+FPS)\n",
    "\n",
    "To test criteria two:\n",
    "\n",
    "- Loop through test images\n",
    "- Time how long each model takes to make a prediction on the image\n",
    "\n",
    "Let's work towards making a function called `pred_and_store()` to do so.\n",
    "\n",
    "First we'll need a list of test image paths."
   ]
  },
  {
   "cell_type": "code",
   "execution_count": 122,
   "metadata": {},
   "outputs": [
    {
     "data": {
      "text/plain": [
       "PosixPath('data/pizza_steak_sushi_20_percent/test')"
      ]
     },
     "execution_count": 122,
     "metadata": {},
     "output_type": "execute_result"
    }
   ],
   "source": [
    "from pathlib import Path\n",
    "\n",
    "test_dir"
   ]
  },
  {
   "cell_type": "code",
   "execution_count": 147,
   "metadata": {},
   "outputs": [
    {
     "data": {
      "text/plain": [
       "[PosixPath('data/pizza_steak_sushi_20_percent/test/pizza/648055.jpg'),\n",
       " PosixPath('data/pizza_steak_sushi_20_percent/test/pizza/2549661.jpg'),\n",
       " PosixPath('data/pizza_steak_sushi_20_percent/test/pizza/796922.jpg'),\n",
       " PosixPath('data/pizza_steak_sushi_20_percent/test/pizza/296426.jpg'),\n",
       " PosixPath('data/pizza_steak_sushi_20_percent/test/pizza/724290.jpg')]"
      ]
     },
     "execution_count": 147,
     "metadata": {},
     "output_type": "execute_result"
    }
   ],
   "source": [
    "test_data_path= list(Path(test_dir).glob('*/*.jpg'))\n",
    "test_data_path[:5]"
   ]
  },
  {
   "cell_type": "code",
   "execution_count": 163,
   "metadata": {},
   "outputs": [
    {
     "data": {
      "text/plain": [
       "PosixPath('data/pizza_steak_sushi_20_percent/test/pizza/648055.jpg')"
      ]
     },
     "execution_count": 163,
     "metadata": {},
     "output_type": "execute_result"
    }
   ],
   "source": [
    "test_data_path[0]"
   ]
  },
  {
   "cell_type": "code",
   "execution_count": 171,
   "metadata": {},
   "outputs": [
    {
     "data": {
      "text/plain": [
       "'648055.jpg'"
      ]
     },
     "execution_count": 171,
     "metadata": {},
     "output_type": "execute_result"
    }
   ],
   "source": [
    "test_data_path[0].name"
   ]
  },
  {
   "cell_type": "code",
   "execution_count": 172,
   "metadata": {},
   "outputs": [
    {
     "data": {
      "text/plain": [
       "'648055'"
      ]
     },
     "execution_count": 172,
     "metadata": {},
     "output_type": "execute_result"
    }
   ],
   "source": [
    "test_data_path[0].stem"
   ]
  },
  {
   "cell_type": "code",
   "execution_count": 161,
   "metadata": {},
   "outputs": [
    {
     "data": {
      "text/plain": [
       "PosixPath('data/pizza_steak_sushi_20_percent/test/pizza')"
      ]
     },
     "execution_count": 161,
     "metadata": {},
     "output_type": "execute_result"
    }
   ],
   "source": [
    "test_data_path[0].parent"
   ]
  },
  {
   "cell_type": "code",
   "execution_count": 169,
   "metadata": {},
   "outputs": [
    {
     "data": {
      "text/plain": [
       "'pizza'"
      ]
     },
     "execution_count": 169,
     "metadata": {},
     "output_type": "execute_result"
    }
   ],
   "source": [
    "test_data_path[0].parent.name"
   ]
  },
  {
   "cell_type": "code",
   "execution_count": 173,
   "metadata": {},
   "outputs": [
    {
     "data": {
      "text/plain": [
       "'pizza'"
      ]
     },
     "execution_count": 173,
     "metadata": {},
     "output_type": "execute_result"
    }
   ],
   "source": [
    "test_data_path[0].parent.stem"
   ]
  },
  {
   "cell_type": "code",
   "execution_count": 177,
   "metadata": {},
   "outputs": [
    {
     "data": {
      "text/plain": [
       "'test'"
      ]
     },
     "execution_count": 177,
     "metadata": {},
     "output_type": "execute_result"
    }
   ],
   "source": [
    "test_data_path[0].parent.parent.name"
   ]
  },
  {
   "cell_type": "code",
   "execution_count": 181,
   "metadata": {},
   "outputs": [
    {
     "data": {
      "text/plain": [
       "'test'"
      ]
     },
     "execution_count": 181,
     "metadata": {},
     "output_type": "execute_result"
    }
   ],
   "source": [
    "test_data_path[0].parent.parent.stem"
   ]
  },
  {
   "cell_type": "markdown",
   "metadata": {},
   "source": [
    "### 5.1 Creating a function to make prediction across the test dataset\n",
    "\n",
    "Steps to create `pred_and_store()`:\n",
    "\n",
    "1. Create a function that takes a list of paths, a trained PyTorch model, a series of transforms, a list of target class names and a target device.\n",
    "2. Create an empty list (can return a full list of all predictions later).\n",
    "3. Loop through the target input paths (the rest of the steps will take place inside the loop).\n",
    "4. Create an empty dictionary for each sample (prediction statistics will go in here).\n",
    "5. Get the sample path and ground truth class from the filepath.\n",
    "6. Start the prediction timer.\n",
    "7. Open the image using `PIL.Image.open(path)`.\n",
    "8. Transform the image to be usable with a given model.\n",
    "9. Prepare the model model for inference by sending to the target device and turning on `eval()` mode.\n",
    "10. Turn on `torch.inference_mode()` and pass the target transformed image to the model and perform forward pass + calculate pred prob + pred class.\n",
    "11. Add the pred prob + pred class to empty dictionary from step 4\n",
    "12. End the prediction timer started in step 6 and add the time to the prediction dictionary.\n",
    "13. See if the predicted class matches the ground truth class.\n",
    "14. Append the updated prediction dictionary to the empty list of predictions we created in step 2.\n",
    "15. Return the list of prediction dictionaries."
   ]
  },
  {
   "cell_type": "code",
   "execution_count": 216,
   "metadata": {},
   "outputs": [],
   "source": [
    "import pathlib\n",
    "import torch\n",
    "from PIL import Image\n",
    "from timeit import default_timer as timer\n",
    "from tqdm.auto import tqdm\n",
    "\n",
    "# 1. Create a function that takes a list of paths, a trained PyTorch model, a series of transforms,\n",
    "#a list of target class names and a target device.\n",
    "def pred_and_store(paths:list[pathlib.Path],\n",
    "                  transform:torchvision.transforms,\n",
    "                  model:torch.nn.Module,\n",
    "                  class_names:list[str],\n",
    "                  device:str= 'cuda' if torch.cuda.is_available() else 'cpu')->list[dict]:\n",
    "    \n",
    "    # 2. Create an empty list (can return a full list of all predictions later)\n",
    "    pred_list=[]\n",
    "    \n",
    "    # 3. Loop through the target input paths (the rest of the steps will take place inside the loop)\n",
    "    for path in tqdm(paths):\n",
    "        \n",
    "        # 4. Create an empty dictionary for each sample (prediction statistics will go in here)\n",
    "        pred_dict={}\n",
    "        \n",
    "        # 5. Get the sample path and ground truth class from the filepath\n",
    "        pred_dict['image_path']=path\n",
    "        class_name=path.parent.stem\n",
    "        #print(class_name)\n",
    "        pred_dict['class_names']=class_name\n",
    "        \n",
    "        # 6. Start the prediction timer\n",
    "        start_time=timer()\n",
    "        \n",
    "        # 7. Open the image using PIL.Image.open(path)\n",
    "        image= Image.open(path)\n",
    "        \n",
    "        # 8. Transform the image to be usable with a given model (also add batch dimention and send to target device)\n",
    "        transformed_image=transform(image).unsqueeze(0).to(device)\n",
    "        \n",
    "        # 9. Prepare the model model for inference by sending to the target device and turning on eval() mode\n",
    "        model=model.to(device)\n",
    "        model.eval()\n",
    "        \n",
    "        # 10. Turn on torch.inference_mode() and pass the target transformed image to the model and\n",
    "        #perform forward pass + calculate pred prob + pred class\n",
    "        \n",
    "        with torch.inference_mode():\n",
    "            pred_logit=model(transformed_image)\n",
    "            pred_prob=torch.softmax(pred_logit, dim=1)\n",
    "            pred_label=torch.argmax(pred_prob, dim=1)\n",
    "            pred_class=class_names[pred_label.cpu()] # hardcode prediction class to be on CPU (Python variables live on CPU)\n",
    "            \n",
    "            # 11. Add the pred prob + pred class to empty dictionary from step 4\n",
    "            pred_dict['pred_prob']=round(pred_prob.unsqueeze(0).max().cpu().item(), 4)\n",
    "            pred_dict['pred_class']=pred_class\n",
    "\n",
    "            # 12. End the prediction timer started in step 6 and add the time to the prediction dictionary\n",
    "            end_time=timer()\n",
    "            pred_dict['time_for_pred']=round(end_time-start_time, 4)\n",
    "\n",
    "        # 13. See if the predicted class matches the ground truth class\n",
    "        pred_dict['correct']= class_name==pred_class\n",
    "\n",
    "        # 14. Append the updated prediction dictionary to the empty list of predictions we created in step 2\n",
    "        pred_list.append(pred_dict)\n",
    "\n",
    "    # 15. Return the list of prediction dictionaries\n",
    "    return pred_list\n",
    "        \n",
    "            "
   ]
  },
  {
   "cell_type": "markdown",
   "metadata": {},
   "source": [
    "### 5.2 Making and timing predictions with EffNetB2\n",
    "\n",
    "Let's test our `pred_and_store()` function.\n",
    "\n",
    "Two things to note:\n",
    "\n",
    "- Device - we're going to hardcode our predictions to happen on CPU (because you won't always be sure of having a GPU when you deploy your model).\n",
    "- Transforms - we want to make sure each of the models are predicting on images that have been prepared with the appropriate transforms (e.g. EffNetB2 with `effnetb2_transforms`)\n"
   ]
  },
  {
   "cell_type": "code",
   "execution_count": 217,
   "metadata": {},
   "outputs": [
    {
     "name": "stderr",
     "output_type": "stream",
     "text": [
      "100%|█████████████████████████████████████████| 150/150 [00:21<00:00,  7.04it/s]\n"
     ]
    }
   ],
   "source": [
    "# Make predictions across test dataset with EffNetB2\n",
    "effnetb2_test_pred_dicts= pred_and_store(paths=test_data_path,\n",
    "                                        transform=effnetb2_transforms,\n",
    "                                        model=effnetb2,\n",
    "                                        class_names=class_names,\n",
    "                                        device='cpu') # Hard code predictions to happen on CPU"
   ]
  },
  {
   "cell_type": "code",
   "execution_count": 219,
   "metadata": {},
   "outputs": [
    {
     "data": {
      "text/plain": [
       "[{'image_path': PosixPath('data/pizza_steak_sushi_20_percent/test/pizza/648055.jpg'),\n",
       "  'class_names': 'pizza',\n",
       "  'pred_prob': 0.8569,\n",
       "  'pred_class': 'pizza',\n",
       "  'time_for_pred': 0.2425,\n",
       "  'correct': True},\n",
       " {'image_path': PosixPath('data/pizza_steak_sushi_20_percent/test/pizza/2549661.jpg'),\n",
       "  'class_names': 'pizza',\n",
       "  'pred_prob': 0.9717,\n",
       "  'pred_class': 'pizza',\n",
       "  'time_for_pred': 0.126,\n",
       "  'correct': True}]"
      ]
     },
     "execution_count": 219,
     "metadata": {},
     "output_type": "execute_result"
    }
   ],
   "source": [
    "effnetb2_test_pred_dicts[0:2]"
   ]
  },
  {
   "cell_type": "code",
   "execution_count": 223,
   "metadata": {},
   "outputs": [
    {
     "data": {
      "text/html": [
       "<div>\n",
       "<style scoped>\n",
       "    .dataframe tbody tr th:only-of-type {\n",
       "        vertical-align: middle;\n",
       "    }\n",
       "\n",
       "    .dataframe tbody tr th {\n",
       "        vertical-align: top;\n",
       "    }\n",
       "\n",
       "    .dataframe thead th {\n",
       "        text-align: right;\n",
       "    }\n",
       "</style>\n",
       "<table border=\"1\" class=\"dataframe\">\n",
       "  <thead>\n",
       "    <tr style=\"text-align: right;\">\n",
       "      <th></th>\n",
       "      <th>image_path</th>\n",
       "      <th>class_names</th>\n",
       "      <th>pred_prob</th>\n",
       "      <th>pred_class</th>\n",
       "      <th>time_for_pred</th>\n",
       "      <th>correct</th>\n",
       "    </tr>\n",
       "  </thead>\n",
       "  <tbody>\n",
       "    <tr>\n",
       "      <th>0</th>\n",
       "      <td>data/pizza_steak_sushi_20_percent/test/pizza/6...</td>\n",
       "      <td>pizza</td>\n",
       "      <td>0.8569</td>\n",
       "      <td>pizza</td>\n",
       "      <td>0.2425</td>\n",
       "      <td>True</td>\n",
       "    </tr>\n",
       "    <tr>\n",
       "      <th>1</th>\n",
       "      <td>data/pizza_steak_sushi_20_percent/test/pizza/2...</td>\n",
       "      <td>pizza</td>\n",
       "      <td>0.9717</td>\n",
       "      <td>pizza</td>\n",
       "      <td>0.1260</td>\n",
       "      <td>True</td>\n",
       "    </tr>\n",
       "    <tr>\n",
       "      <th>2</th>\n",
       "      <td>data/pizza_steak_sushi_20_percent/test/pizza/7...</td>\n",
       "      <td>pizza</td>\n",
       "      <td>0.7035</td>\n",
       "      <td>pizza</td>\n",
       "      <td>0.1352</td>\n",
       "      <td>True</td>\n",
       "    </tr>\n",
       "    <tr>\n",
       "      <th>3</th>\n",
       "      <td>data/pizza_steak_sushi_20_percent/test/pizza/2...</td>\n",
       "      <td>pizza</td>\n",
       "      <td>0.8489</td>\n",
       "      <td>pizza</td>\n",
       "      <td>0.1442</td>\n",
       "      <td>True</td>\n",
       "    </tr>\n",
       "    <tr>\n",
       "      <th>4</th>\n",
       "      <td>data/pizza_steak_sushi_20_percent/test/pizza/7...</td>\n",
       "      <td>pizza</td>\n",
       "      <td>0.7804</td>\n",
       "      <td>pizza</td>\n",
       "      <td>0.1427</td>\n",
       "      <td>True</td>\n",
       "    </tr>\n",
       "  </tbody>\n",
       "</table>\n",
       "</div>"
      ],
      "text/plain": [
       "                                          image_path class_names  pred_prob  \\\n",
       "0  data/pizza_steak_sushi_20_percent/test/pizza/6...       pizza     0.8569   \n",
       "1  data/pizza_steak_sushi_20_percent/test/pizza/2...       pizza     0.9717   \n",
       "2  data/pizza_steak_sushi_20_percent/test/pizza/7...       pizza     0.7035   \n",
       "3  data/pizza_steak_sushi_20_percent/test/pizza/2...       pizza     0.8489   \n",
       "4  data/pizza_steak_sushi_20_percent/test/pizza/7...       pizza     0.7804   \n",
       "\n",
       "  pred_class  time_for_pred  correct  \n",
       "0      pizza         0.2425     True  \n",
       "1      pizza         0.1260     True  \n",
       "2      pizza         0.1352     True  \n",
       "3      pizza         0.1442     True  \n",
       "4      pizza         0.1427     True  "
      ]
     },
     "execution_count": 223,
     "metadata": {},
     "output_type": "execute_result"
    }
   ],
   "source": [
    "# Turn effnetb2_the test_pred_dicts into a DataFrame\n",
    "import pandas as pd\n",
    "effnetb2_test_pred_df = pd.DataFrame(effnetb2_test_pred_dicts)\n",
    "effnetb2_test_pred_df.head()"
   ]
  },
  {
   "cell_type": "code",
   "execution_count": 244,
   "metadata": {},
   "outputs": [
    {
     "data": {
      "text/plain": [
       "correct\n",
       "True     143\n",
       "False      7\n",
       "Name: count, dtype: int64"
      ]
     },
     "execution_count": 244,
     "metadata": {},
     "output_type": "execute_result"
    }
   ],
   "source": [
    "# Check number of correct predictions\n",
    "#sum(effnetb2_test_pred_df['class_names']==effnetb2_test_pred_df['pred_class'])\n",
    "#effnetb2_test_pred_df.correct.sum()\n",
    "effnetb2_test_pred_df.correct.value_counts()"
   ]
  },
  {
   "cell_type": "code",
   "execution_count": 260,
   "metadata": {},
   "outputs": [
    {
     "name": "stdout",
     "output_type": "stream",
     "text": [
      "EffNetB2 average time per prediction: 0.1407\n"
     ]
    }
   ],
   "source": [
    "# Find the average time per prediction \n",
    "effnetb2_average_time_per_pred= round(effnetb2_test_pred_df.time_for_pred.mean(),4)\n",
    "print(f\"EffNetB2 average time per prediction: {effnetb2_average_time_per_pred}\")"
   ]
  },
  {
   "cell_type": "markdown",
   "metadata": {},
   "source": [
    "Note: Prediction times will vary (much like training times) depending on the hardware you're using... so generally the faster your compute (e.g. CPU or GPU), the faster the predictions will happen."
   ]
  },
  {
   "cell_type": "code",
   "execution_count": 254,
   "metadata": {},
   "outputs": [
    {
     "data": {
      "text/plain": [
       "np.float64(0.140718)"
      ]
     },
     "execution_count": 254,
     "metadata": {},
     "output_type": "execute_result"
    }
   ],
   "source": [
    "effnetb2_test_pred_df.time_for_pred.mean()"
   ]
  },
  {
   "cell_type": "code",
   "execution_count": 256,
   "metadata": {},
   "outputs": [
    {
     "data": {
      "text/plain": [
       "np.float64(0.140718)"
      ]
     },
     "execution_count": 256,
     "metadata": {},
     "output_type": "execute_result"
    }
   ],
   "source": [
    "effnetb2_test_pred_df.time_for_pred.sum()/len(effnetb2_test_pred_df)"
   ]
  },
  {
   "cell_type": "code",
   "execution_count": 250,
   "metadata": {},
   "outputs": [
    {
     "data": {
      "text/plain": [
       "150"
      ]
     },
     "execution_count": 250,
     "metadata": {},
     "output_type": "execute_result"
    }
   ],
   "source": [
    "len(effnetb2_test_pred_df)"
   ]
  },
  {
   "cell_type": "code",
   "execution_count": 261,
   "metadata": {},
   "outputs": [
    {
     "data": {
      "text/plain": [
       "{'test_loss': 0.27869718074798583,\n",
       " 'test_acc': 0.95625,\n",
       " 'number_of_parameters': 7705221,\n",
       " 'model_size (MB)': 29.8638858795166}"
      ]
     },
     "execution_count": 261,
     "metadata": {},
     "output_type": "execute_result"
    }
   ],
   "source": [
    "effnetb2_stats"
   ]
  },
  {
   "cell_type": "code",
   "execution_count": 262,
   "metadata": {},
   "outputs": [
    {
     "data": {
      "text/plain": [
       "{'test_loss': 0.27869718074798583,\n",
       " 'test_acc': 0.95625,\n",
       " 'number_of_parameters': 7705221,\n",
       " 'model_size (MB)': 29.8638858795166,\n",
       " 'time_per_pred_cpu': np.float64(0.1407)}"
      ]
     },
     "execution_count": 262,
     "metadata": {},
     "output_type": "execute_result"
    }
   ],
   "source": [
    "# Add time per pred to EffNetB2 stats dictionary\n",
    "effnetb2_stats[\"time_per_pred_cpu\"] = effnetb2_average_time_per_pred \n",
    "effnetb2_stats\n",
    "     "
   ]
  },
  {
   "cell_type": "markdown",
   "metadata": {},
   "source": [
    "### 5.3 Making and timing predictions with ViT"
   ]
  },
  {
   "cell_type": "code",
   "execution_count": 264,
   "metadata": {},
   "outputs": [
    {
     "name": "stderr",
     "output_type": "stream",
     "text": [
      "100%|█████████████████████████████████████████| 150/150 [01:03<00:00,  2.34it/s]\n"
     ]
    }
   ],
   "source": [
    "# Make list of prediction dictionaries with ViT feature extractor model on test images \n",
    "vit_test_pred_dicts = pred_and_store(paths=test_data_path,\n",
    "                                     model=vit,\n",
    "                                     transform=vit_transforms,\n",
    "                                     class_names=class_names,\n",
    "                                     device=\"cpu\") # hardcode device to CPU because not sure if GPU available when we deploy \n",
    "     "
   ]
  },
  {
   "cell_type": "code",
   "execution_count": 266,
   "metadata": {},
   "outputs": [
    {
     "data": {
      "text/plain": [
       "[{'image_path': PosixPath('data/pizza_steak_sushi_20_percent/test/pizza/648055.jpg'),\n",
       "  'class_names': 'pizza',\n",
       "  'pred_prob': 0.9969,\n",
       "  'pred_class': 'pizza',\n",
       "  'time_for_pred': 0.8591,\n",
       "  'correct': True},\n",
       " {'image_path': PosixPath('data/pizza_steak_sushi_20_percent/test/pizza/2549661.jpg'),\n",
       "  'class_names': 'pizza',\n",
       "  'pred_prob': 0.9977,\n",
       "  'pred_class': 'pizza',\n",
       "  'time_for_pred': 0.3691,\n",
       "  'correct': True}]"
      ]
     },
     "execution_count": 266,
     "metadata": {},
     "output_type": "execute_result"
    }
   ],
   "source": [
    "vit_test_pred_dicts[:2]"
   ]
  },
  {
   "cell_type": "code",
   "execution_count": 267,
   "metadata": {},
   "outputs": [
    {
     "data": {
      "text/html": [
       "<div>\n",
       "<style scoped>\n",
       "    .dataframe tbody tr th:only-of-type {\n",
       "        vertical-align: middle;\n",
       "    }\n",
       "\n",
       "    .dataframe tbody tr th {\n",
       "        vertical-align: top;\n",
       "    }\n",
       "\n",
       "    .dataframe thead th {\n",
       "        text-align: right;\n",
       "    }\n",
       "</style>\n",
       "<table border=\"1\" class=\"dataframe\">\n",
       "  <thead>\n",
       "    <tr style=\"text-align: right;\">\n",
       "      <th></th>\n",
       "      <th>image_path</th>\n",
       "      <th>class_names</th>\n",
       "      <th>pred_prob</th>\n",
       "      <th>pred_class</th>\n",
       "      <th>time_for_pred</th>\n",
       "      <th>correct</th>\n",
       "    </tr>\n",
       "  </thead>\n",
       "  <tbody>\n",
       "    <tr>\n",
       "      <th>0</th>\n",
       "      <td>data/pizza_steak_sushi_20_percent/test/pizza/6...</td>\n",
       "      <td>pizza</td>\n",
       "      <td>0.9969</td>\n",
       "      <td>pizza</td>\n",
       "      <td>0.8591</td>\n",
       "      <td>True</td>\n",
       "    </tr>\n",
       "    <tr>\n",
       "      <th>1</th>\n",
       "      <td>data/pizza_steak_sushi_20_percent/test/pizza/2...</td>\n",
       "      <td>pizza</td>\n",
       "      <td>0.9977</td>\n",
       "      <td>pizza</td>\n",
       "      <td>0.3691</td>\n",
       "      <td>True</td>\n",
       "    </tr>\n",
       "    <tr>\n",
       "      <th>2</th>\n",
       "      <td>data/pizza_steak_sushi_20_percent/test/pizza/7...</td>\n",
       "      <td>pizza</td>\n",
       "      <td>0.9732</td>\n",
       "      <td>pizza</td>\n",
       "      <td>0.4571</td>\n",
       "      <td>True</td>\n",
       "    </tr>\n",
       "    <tr>\n",
       "      <th>3</th>\n",
       "      <td>data/pizza_steak_sushi_20_percent/test/pizza/2...</td>\n",
       "      <td>pizza</td>\n",
       "      <td>0.9983</td>\n",
       "      <td>pizza</td>\n",
       "      <td>0.3971</td>\n",
       "      <td>True</td>\n",
       "    </tr>\n",
       "    <tr>\n",
       "      <th>4</th>\n",
       "      <td>data/pizza_steak_sushi_20_percent/test/pizza/7...</td>\n",
       "      <td>pizza</td>\n",
       "      <td>0.9946</td>\n",
       "      <td>pizza</td>\n",
       "      <td>0.5416</td>\n",
       "      <td>True</td>\n",
       "    </tr>\n",
       "  </tbody>\n",
       "</table>\n",
       "</div>"
      ],
      "text/plain": [
       "                                          image_path class_names  pred_prob  \\\n",
       "0  data/pizza_steak_sushi_20_percent/test/pizza/6...       pizza     0.9969   \n",
       "1  data/pizza_steak_sushi_20_percent/test/pizza/2...       pizza     0.9977   \n",
       "2  data/pizza_steak_sushi_20_percent/test/pizza/7...       pizza     0.9732   \n",
       "3  data/pizza_steak_sushi_20_percent/test/pizza/2...       pizza     0.9983   \n",
       "4  data/pizza_steak_sushi_20_percent/test/pizza/7...       pizza     0.9946   \n",
       "\n",
       "  pred_class  time_for_pred  correct  \n",
       "0      pizza         0.8591     True  \n",
       "1      pizza         0.3691     True  \n",
       "2      pizza         0.4571     True  \n",
       "3      pizza         0.3971     True  \n",
       "4      pizza         0.5416     True  "
      ]
     },
     "execution_count": 267,
     "metadata": {},
     "output_type": "execute_result"
    }
   ],
   "source": [
    "import pandas as pd\n",
    "vit_test_pred_df = pd.DataFrame(vit_test_pred_dicts)\n",
    "vit_test_pred_df.head()\n",
    "     "
   ]
  },
  {
   "cell_type": "code",
   "execution_count": 268,
   "metadata": {},
   "outputs": [
    {
     "data": {
      "text/plain": [
       "correct\n",
       "True     148\n",
       "False      2\n",
       "Name: count, dtype: int64"
      ]
     },
     "execution_count": 268,
     "metadata": {},
     "output_type": "execute_result"
    }
   ],
   "source": [
    "# See how many correct\n",
    "vit_test_pred_df.correct.value_counts()\n",
    "     "
   ]
  },
  {
   "cell_type": "code",
   "execution_count": 269,
   "metadata": {},
   "outputs": [
    {
     "name": "stdout",
     "output_type": "stream",
     "text": [
      "ViT average time per prediction: 0.4254\n"
     ]
    }
   ],
   "source": [
    "\n",
    "# Calculate average time per prediction for ViT model\n",
    "vit_average_time_per_pred = round(vit_test_pred_df.time_for_pred.mean(), 4)\n",
    "print(f\"ViT average time per prediction: {vit_average_time_per_pred}\")\n",
    "     "
   ]
  },
  {
   "cell_type": "code",
   "execution_count": 270,
   "metadata": {},
   "outputs": [
    {
     "data": {
      "text/plain": [
       "{'test_loss': 0.06443450534716248,\n",
       " 'test_acc': 0.984659090909091,\n",
       " 'number_of_parameters': 85800963,\n",
       " 'model_size (MB)': 327.37096977233887}"
      ]
     },
     "execution_count": 270,
     "metadata": {},
     "output_type": "execute_result"
    }
   ],
   "source": [
    "vit_stats"
   ]
  },
  {
   "cell_type": "code",
   "execution_count": 271,
   "metadata": {},
   "outputs": [
    {
     "data": {
      "text/plain": [
       "{'test_loss': 0.06443450534716248,\n",
       " 'test_acc': 0.984659090909091,\n",
       " 'number_of_parameters': 85800963,\n",
       " 'model_size (MB)': 327.37096977233887,\n",
       " 'time_per_pred_cpu': np.float64(0.4254)}"
      ]
     },
     "execution_count": 271,
     "metadata": {},
     "output_type": "execute_result"
    }
   ],
   "source": [
    "# Add average time per prediction to ViT stats\n",
    "vit_stats[\"time_per_pred_cpu\"] = vit_average_time_per_pred\n",
    "vit_stats\n",
    "     \n"
   ]
  },
  {
   "cell_type": "markdown",
   "metadata": {},
   "source": [
    "## 6. Comparing model results, prediction times and size"
   ]
  },
  {
   "cell_type": "code",
   "execution_count": 274,
   "metadata": {},
   "outputs": [
    {
     "data": {
      "text/html": [
       "<div>\n",
       "<style scoped>\n",
       "    .dataframe tbody tr th:only-of-type {\n",
       "        vertical-align: middle;\n",
       "    }\n",
       "\n",
       "    .dataframe tbody tr th {\n",
       "        vertical-align: top;\n",
       "    }\n",
       "\n",
       "    .dataframe thead th {\n",
       "        text-align: right;\n",
       "    }\n",
       "</style>\n",
       "<table border=\"1\" class=\"dataframe\">\n",
       "  <thead>\n",
       "    <tr style=\"text-align: right;\">\n",
       "      <th></th>\n",
       "      <th>test_loss</th>\n",
       "      <th>test_acc</th>\n",
       "      <th>number_of_parameters</th>\n",
       "      <th>model_size (MB)</th>\n",
       "      <th>time_per_pred_cpu</th>\n",
       "      <th>model</th>\n",
       "    </tr>\n",
       "  </thead>\n",
       "  <tbody>\n",
       "    <tr>\n",
       "      <th>0</th>\n",
       "      <td>0.278697</td>\n",
       "      <td>95.62</td>\n",
       "      <td>7705221</td>\n",
       "      <td>29.863886</td>\n",
       "      <td>0.1407</td>\n",
       "      <td>EffNetB2</td>\n",
       "    </tr>\n",
       "    <tr>\n",
       "      <th>1</th>\n",
       "      <td>0.064435</td>\n",
       "      <td>98.47</td>\n",
       "      <td>85800963</td>\n",
       "      <td>327.370970</td>\n",
       "      <td>0.4254</td>\n",
       "      <td>ViT</td>\n",
       "    </tr>\n",
       "  </tbody>\n",
       "</table>\n",
       "</div>"
      ],
      "text/plain": [
       "   test_loss  test_acc  number_of_parameters  model_size (MB)  \\\n",
       "0   0.278697     95.62               7705221        29.863886   \n",
       "1   0.064435     98.47              85800963       327.370970   \n",
       "\n",
       "   time_per_pred_cpu     model  \n",
       "0             0.1407  EffNetB2  \n",
       "1             0.4254       ViT  "
      ]
     },
     "execution_count": 274,
     "metadata": {},
     "output_type": "execute_result"
    }
   ],
   "source": [
    "df=pd.DataFrame([effnetb2_stats,vit_stats])\n",
    "df['model']=['EffNetB2','ViT']\n",
    "df['test_acc']=round(df['test_acc']*100,2)\n",
    "df"
   ]
  },
  {
   "cell_type": "markdown",
   "metadata": {},
   "source": [
    "Which model is better?\n",
    "\n",
    "- `test_loss` (lower is better) - ViT\n",
    "- `test_acc` (higher is better) - ViT\n",
    "- `number_of_parameters` (generally lower is better*) - EffNetB2 (if a model has more parameters, it generally takes longer to compute)\n",
    "    - sometimes models with higher parameters can still perform fast\n",
    "- `model_size (MB)` - EffNetB2 (for our use case of deploying to a mobile device, generally lower is better)\n",
    "- `time_per_pred_cpu` (lower is better, will be highly dependent on the hardware you're running on) - EffNetB2\n",
    "Both models fail to achieve our goal of 30+FPS... however we could always just try and use EffNetB2 and see how it goes."
   ]
  },
  {
   "cell_type": "code",
   "execution_count": 279,
   "metadata": {},
   "outputs": [
    {
     "data": {
      "text/html": [
       "<div>\n",
       "<style scoped>\n",
       "    .dataframe tbody tr th:only-of-type {\n",
       "        vertical-align: middle;\n",
       "    }\n",
       "\n",
       "    .dataframe tbody tr th {\n",
       "        vertical-align: top;\n",
       "    }\n",
       "\n",
       "    .dataframe thead th {\n",
       "        text-align: right;\n",
       "    }\n",
       "</style>\n",
       "<table border=\"1\" class=\"dataframe\">\n",
       "  <thead>\n",
       "    <tr style=\"text-align: right;\">\n",
       "      <th></th>\n",
       "      <th>test_loss</th>\n",
       "      <th>test_acc</th>\n",
       "      <th>number_of_parameters</th>\n",
       "      <th>model_size (MB)</th>\n",
       "      <th>time_per_pred_cpu</th>\n",
       "    </tr>\n",
       "    <tr>\n",
       "      <th>model</th>\n",
       "      <th></th>\n",
       "      <th></th>\n",
       "      <th></th>\n",
       "      <th></th>\n",
       "      <th></th>\n",
       "    </tr>\n",
       "  </thead>\n",
       "  <tbody>\n",
       "    <tr>\n",
       "      <th>EffNetB2</th>\n",
       "      <td>0.278697</td>\n",
       "      <td>95.62</td>\n",
       "      <td>7705221</td>\n",
       "      <td>29.863886</td>\n",
       "      <td>0.1407</td>\n",
       "    </tr>\n",
       "    <tr>\n",
       "      <th>ViT</th>\n",
       "      <td>0.064435</td>\n",
       "      <td>98.47</td>\n",
       "      <td>85800963</td>\n",
       "      <td>327.370970</td>\n",
       "      <td>0.4254</td>\n",
       "    </tr>\n",
       "  </tbody>\n",
       "</table>\n",
       "</div>"
      ],
      "text/plain": [
       "          test_loss  test_acc  number_of_parameters  model_size (MB)  \\\n",
       "model                                                                  \n",
       "EffNetB2   0.278697     95.62               7705221        29.863886   \n",
       "ViT        0.064435     98.47              85800963       327.370970   \n",
       "\n",
       "          time_per_pred_cpu  \n",
       "model                        \n",
       "EffNetB2             0.1407  \n",
       "ViT                  0.4254  "
      ]
     },
     "execution_count": 279,
     "metadata": {},
     "output_type": "execute_result"
    }
   ],
   "source": [
    "df.set_index('model')"
   ]
  },
  {
   "cell_type": "code",
   "execution_count": 290,
   "metadata": {},
   "outputs": [
    {
     "data": {
      "text/plain": [
       "test_loss               6.443451e-02\n",
       "test_acc                9.847000e+01\n",
       "number_of_parameters    8.580096e+07\n",
       "model_size (MB)         3.273710e+02\n",
       "time_per_pred_cpu       4.254000e-01\n",
       "Name: ViT, dtype: float64"
      ]
     },
     "execution_count": 290,
     "metadata": {},
     "output_type": "execute_result"
    }
   ],
   "source": [
    "df.set_index('model').loc['ViT']\n"
   ]
  },
  {
   "cell_type": "code",
   "execution_count": 296,
   "metadata": {},
   "outputs": [
    {
     "data": {
      "text/plain": [
       "test_loss                0.231199\n",
       "test_acc                 1.029805\n",
       "number_of_parameters    11.135432\n",
       "model_size (MB)         10.962102\n",
       "time_per_pred_cpu        3.023454\n",
       "dtype: float64"
      ]
     },
     "execution_count": 296,
     "metadata": {},
     "output_type": "execute_result"
    }
   ],
   "source": [
    "df.set_index(\"model\").loc[\"ViT\"] / df.set_index(\"model\").loc[\"EffNetB2\"]"
   ]
  },
  {
   "cell_type": "code",
   "execution_count": 294,
   "metadata": {},
   "outputs": [
    {
     "data": {
      "text/html": [
       "<div>\n",
       "<style scoped>\n",
       "    .dataframe tbody tr th:only-of-type {\n",
       "        vertical-align: middle;\n",
       "    }\n",
       "\n",
       "    .dataframe tbody tr th {\n",
       "        vertical-align: top;\n",
       "    }\n",
       "\n",
       "    .dataframe thead th {\n",
       "        text-align: right;\n",
       "    }\n",
       "</style>\n",
       "<table border=\"1\" class=\"dataframe\">\n",
       "  <thead>\n",
       "    <tr style=\"text-align: right;\">\n",
       "      <th></th>\n",
       "      <th>test_loss</th>\n",
       "      <th>test_acc</th>\n",
       "      <th>number_of_parameters</th>\n",
       "      <th>model_size (MB)</th>\n",
       "      <th>time_per_pred_cpu</th>\n",
       "    </tr>\n",
       "  </thead>\n",
       "  <tbody>\n",
       "    <tr>\n",
       "      <th>ViT to EffNetB2 ratios</th>\n",
       "      <td>0.231199</td>\n",
       "      <td>1.029805</td>\n",
       "      <td>11.135432</td>\n",
       "      <td>10.962102</td>\n",
       "      <td>3.023454</td>\n",
       "    </tr>\n",
       "  </tbody>\n",
       "</table>\n",
       "</div>"
      ],
      "text/plain": [
       "                        test_loss  test_acc  number_of_parameters  \\\n",
       "ViT to EffNetB2 ratios   0.231199  1.029805             11.135432   \n",
       "\n",
       "                        model_size (MB)  time_per_pred_cpu  \n",
       "ViT to EffNetB2 ratios        10.962102           3.023454  "
      ]
     },
     "execution_count": 294,
     "metadata": {},
     "output_type": "execute_result"
    }
   ],
   "source": [
    "# Compare ViT to EffNetB2 across different characteristics\n",
    "pd.DataFrame(data=(df.set_index(\"model\").loc[\"ViT\"] / df.set_index(\"model\").loc[\"EffNetB2\"]),\n",
    "             columns=[\"ViT to EffNetB2 ratios\"]).T"
   ]
  },
  {
   "cell_type": "markdown",
   "metadata": {},
   "source": [
    "### 6.1 Visualizing the speed vs. performance tradeoff\n",
    "So we've compared our EffNetB2 and ViT feature extractor models, now let's visualize the comparison with a speed vs. performance plot.\n",
    "\n",
    "We can do so with matplotlib:\n",
    "\n",
    "- Create a scatter plot from the comparison DataFrame to compare EffNetB2 and ViT across test accuracy and prediction time.\n",
    "- Add titles and labels to make our plot look nice.\n",
    "- Annotate the samples on the scatter plot so we know what's going on.\n",
    "- Create a legend based on the model sizes (model_size (MB))."
   ]
  },
  {
   "cell_type": "code",
   "execution_count": 297,
   "metadata": {},
   "outputs": [
    {
     "data": {
      "text/html": [
       "<div>\n",
       "<style scoped>\n",
       "    .dataframe tbody tr th:only-of-type {\n",
       "        vertical-align: middle;\n",
       "    }\n",
       "\n",
       "    .dataframe tbody tr th {\n",
       "        vertical-align: top;\n",
       "    }\n",
       "\n",
       "    .dataframe thead th {\n",
       "        text-align: right;\n",
       "    }\n",
       "</style>\n",
       "<table border=\"1\" class=\"dataframe\">\n",
       "  <thead>\n",
       "    <tr style=\"text-align: right;\">\n",
       "      <th></th>\n",
       "      <th>test_loss</th>\n",
       "      <th>test_acc</th>\n",
       "      <th>number_of_parameters</th>\n",
       "      <th>model_size (MB)</th>\n",
       "      <th>time_per_pred_cpu</th>\n",
       "      <th>model</th>\n",
       "    </tr>\n",
       "  </thead>\n",
       "  <tbody>\n",
       "    <tr>\n",
       "      <th>0</th>\n",
       "      <td>0.278697</td>\n",
       "      <td>95.62</td>\n",
       "      <td>7705221</td>\n",
       "      <td>29.863886</td>\n",
       "      <td>0.1407</td>\n",
       "      <td>EffNetB2</td>\n",
       "    </tr>\n",
       "    <tr>\n",
       "      <th>1</th>\n",
       "      <td>0.064435</td>\n",
       "      <td>98.47</td>\n",
       "      <td>85800963</td>\n",
       "      <td>327.370970</td>\n",
       "      <td>0.4254</td>\n",
       "      <td>ViT</td>\n",
       "    </tr>\n",
       "  </tbody>\n",
       "</table>\n",
       "</div>"
      ],
      "text/plain": [
       "   test_loss  test_acc  number_of_parameters  model_size (MB)  \\\n",
       "0   0.278697     95.62               7705221        29.863886   \n",
       "1   0.064435     98.47              85800963       327.370970   \n",
       "\n",
       "   time_per_pred_cpu     model  \n",
       "0             0.1407  EffNetB2  \n",
       "1             0.4254       ViT  "
      ]
     },
     "execution_count": 297,
     "metadata": {},
     "output_type": "execute_result"
    }
   ],
   "source": [
    "df"
   ]
  },
  {
   "cell_type": "code",
   "execution_count": 379,
   "metadata": {},
   "outputs": [
    {
     "data": {
      "image/png": "[encoded data removed]",
      "text/plain": [
       "<Figure size 1400x800 with 1 Axes>"
      ]
     },
     "metadata": {},
     "output_type": "display_data"
    }
   ],
   "source": [
    "# 1. Create a plot from model comparison DataFrame\n",
    "import matplotlib.pyplot as plt\n",
    "plt.figure(figsize=(14,8))\n",
    "scatter=plt.scatter(data=df,\n",
    "            x='time_per_pred_cpu',\n",
    "            y='test_acc',\n",
    "            s='model_size (MB)',\n",
    "            c=['blue','orange'])\n",
    "\n",
    "# 2. Add titles and labels to make our plot look good\n",
    "plt.title(\"FoodVision Mini Inference Speed vs Performance\", fontsize=18)\n",
    "plt.xlabel(\"Prediction time per image (seconds)\", fontsize=14)\n",
    "plt.ylabel(\"Test accuracy (%)\", fontsize=14)\n",
    "plt.tick_params(axis=\"both\", labelsize=12)\n",
    "plt.grid(True)\n",
    "\n",
    "# 3. Annotate the samples on the scatter plot so we know what's going on. \n",
    "for index,row in df.iterrows():\n",
    "    plt.annotate(text=row['model'],\n",
    "                xy=(row['time_per_pred_cpu']*1.01,row['test_acc']),\n",
    "                size=14)\n",
    "\n",
    "# 4. Create a legend based on the model sizes (model_size (MB))\n",
    "handles, labels = scatter.legend_elements(prop=\"sizes\", alpha=0.5,c='g')\n",
    "plt.legend(handles,\n",
    "           labels,\n",
    "           title='Model size (MB)',\n",
    "           fontsize=14)\n",
    "\n",
    "plt.savefig(\"images/09-foodvision-mini-inference-speed-vs-performance.png\")\n"
   ]
  },
  {
   "cell_type": "code",
   "execution_count": 332,
   "metadata": {},
   "outputs": [
    {
     "name": "stdout",
     "output_type": "stream",
     "text": [
      "0 \n",
      " test_loss                0.278697\n",
      "test_acc                    95.62\n",
      "number_of_parameters      7705221\n",
      "model_size (MB)         29.863886\n",
      "time_per_pred_cpu          0.1407\n",
      "model                    EffNetB2\n",
      "Name: 0, dtype: object\n",
      "1 \n",
      " test_loss                0.064435\n",
      "test_acc                    98.47\n",
      "number_of_parameters     85800963\n",
      "model_size (MB)         327.37097\n",
      "time_per_pred_cpu          0.4254\n",
      "model                         ViT\n",
      "Name: 1, dtype: object\n"
     ]
    }
   ],
   "source": [
    "for index, row in df.iterrows():\n",
    "    print(index,'\\n',row)"
   ]
  },
  {
   "cell_type": "code",
   "execution_count": 349,
   "metadata": {},
   "outputs": [
    {
     "data": {
      "text/plain": [
       "110.00000000000001"
      ]
     },
     "execution_count": 349,
     "metadata": {},
     "output_type": "execute_result"
    }
   ],
   "source": [
    "100*1.1"
   ]
  },
  {
   "cell_type": "code",
   "execution_count": 361,
   "metadata": {},
   "outputs": [
    {
     "data": {
      "text/plain": [
       "([<matplotlib.lines.Line2D at 0x7520b7228800>,\n",
       "  <matplotlib.lines.Line2D at 0x7520b7229580>],\n",
       " ['$\\\\mathdefault{29.9}$', '$\\\\mathdefault{327.4}$'])"
      ]
     },
     "execution_count": 361,
     "metadata": {},
     "output_type": "execute_result"
    }
   ],
   "source": [
    "handles, labels = scatter.legend_elements(prop=\"sizes\", alpha=0.5)\n",
    "handles,labels\n"
   ]
  },
  {
   "cell_type": "code",
   "execution_count": null,
   "metadata": {},
   "outputs": [],
   "source": []
  }
 ],
 "metadata": {
  "accelerator": "GPU",
  "colab": {
   "authorship_tag": "ABX9TyMHZOb/mEFxyxNc+HBmyfpJ",
   "collapsed_sections": [],
   "include_colab_link": true,
   "name": "00_pytorch_fundamentals_video.ipynb",
   "provenance": [],
   "toc_visible": true
  },
  "kernelspec": {
   "display_name": "Pytorch_Bootcamp",
   "language": "python",
   "name": "pytorch_bootcamp"
  },
  "language_info": {
   "codemirror_mode": {
    "name": "ipython",
    "version": 3
   },
   "file_extension": ".py",
   "mimetype": "text/x-python",
   "name": "python",
   "nbconvert_exporter": "python",
   "pygments_lexer": "ipython3",
   "version": "3.12.3"
  }
 },
 "nbformat": 4,
 "nbformat_minor": 1
}
